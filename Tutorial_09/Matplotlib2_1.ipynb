{
 "cells": [
  {
   "cell_type": "markdown",
   "metadata": {},
   "source": [
    "# Matplotlib 2 : Adding Subplots and Object-oriented approach"
   ]
  },
  {
   "cell_type": "code",
   "execution_count": null,
   "metadata": {
    "scrolled": true
   },
   "outputs": [],
   "source": [
    "import matplotlib.pyplot as plt\n",
    "import numpy as np"
   ]
  },
  {
   "cell_type": "code",
   "execution_count": null,
   "metadata": {
    "scrolled": true
   },
   "outputs": [],
   "source": [
    "%matplotlib inline"
   ]
  },
  {
   "cell_type": "code",
   "execution_count": null,
   "metadata": {
    "scrolled": true
   },
   "outputs": [],
   "source": [
    "def f(t):\n",
    "    \"\"\"Python function to calculate a enclosed sinusoid\"\"\"\n",
    "    val = 1 / ((t-2.5)**2 + 1) * np.cos(4*np.pi*t)\n",
    "    return val\n",
    "\n",
    "t = np.arange(0.0, 5.0, 0.02)"
   ]
  },
  {
   "cell_type": "markdown",
   "metadata": {},
   "source": [
    "## Working with multiple figures and axes\n",
    "matplotlib.pyplot, has the concept of the current figure and the current axes. All plotting commands apply to the current axes. Normally, you don’t have to worry about this, because it is all taken care of behind the scenes."
   ]
  },
  {
   "cell_type": "markdown",
   "metadata": {},
   "source": [
    "### Figure\n",
    "This is the entire window where one or more subplots live. A Figure object (new window) is created with the figure() command.\n",
    "\n",
    "### Axes\n",
    "This is an object representing a subplot (which you might casually call a “plot” or “graph”) which contains axes (here, plural of axis), ticks, lines, points, text, etc.\n",
    "\n",
    "### plot()\n",
    "This is a command that draws points or lines and returns a list of Line2D objects. One sublety is that plot() will automatically call figure() and/or subplot() if neccesary to create the underlying Figure and Axes objects.\n",
    "\n",
    "### subplot()\n",
    "This is a command that creates and returns a new subplot (Axes) object which will be used for subsequent plotting commands."
   ]
  },
  {
   "cell_type": "code",
   "execution_count": null,
   "metadata": {
    "scrolled": true
   },
   "outputs": [],
   "source": [
    "# From what we know till now\n",
    "plt.plot(t, f(t), 'k')\n",
    "plt.plot(t, 50*np.cos(2*np.pi*t), 'r--')"
   ]
  },
  {
   "cell_type": "markdown",
   "metadata": {},
   "source": [
    "The first (black) graph isn't looking good.  \n",
    "So, what if you want to the separate graphs?"
   ]
  },
  {
   "cell_type": "code",
   "execution_count": null,
   "metadata": {
    "scrolled": true
   },
   "outputs": [],
   "source": [
    "plt.subplot(2, 1, 1) # (2, 1, 1) implies first axes in a grid of 2x1 (2 rows, 1 col)\n",
    "plt.plot(t, f(t), 'k') # plotting in first axes because it is the current axes\n",
    "\n",
    "plt.subplot(2, 1, 2) # (2, 1, 2) implies second axes in a grid of 2x1 (2 rows, 1 col)\n",
    "plt.plot(t, 50*np.cos(2*np.pi*t), 'r--') # plotting in second axes because it is the current axes"
   ]
  },
  {
   "cell_type": "markdown",
   "metadata": {},
   "source": [
    "subplot() helps in forming grids of similiar Axes."
   ]
  },
  {
   "cell_type": "code",
   "execution_count": null,
   "metadata": {
    "scrolled": true
   },
   "outputs": [],
   "source": [
    "plt.subplot(2, 2, 1) # 1st element of 2x2 grid - 1st row, 1st col\n",
    "plt.plot(t, f(t), 'b') # Blue graph \n",
    "\n",
    "plt.subplot(2, 2, 2) # 2nd element of 2x2 grid - 1st row, 2st col\n",
    "plt.plot(t, f(t), 'g') # Green graph\n",
    "\n",
    "plt.subplot(2, 2, 3) # 3rd element of 2x2 grid - 2st row, 1st col\n",
    "plt.plot(t, f(t), 'r') # Red graph\n",
    "\n",
    "plt.subplot(2, 2, 4) # 4th element of 2x2 grid - 2st row, 2st col\n",
    "plt.plot(t, f(t), 'k') # Black graph"
   ]
  },
  {
   "cell_type": "markdown",
   "metadata": {},
   "source": [
    "## Object Oriented approach to Plotting"
   ]
  },
  {
   "cell_type": "markdown",
   "metadata": {},
   "source": [
    "The object-oriented API\n",
    "At its core, Matplotlib is object-oriented. We recommend directly working with the objects, if you need more control and customization of your plots.\n",
    "\n",
    "Further reading:\n",
    "[matplotlib.axes.Axes](https://matplotlib.org/api/axes_api.html#matplotlib-axes) and [matplotlib.figure.Figure](https://matplotlib.org/api/_as_gen/matplotlib.figure.Figure.html#matplotlib-figure-figure) for an overview of plotting functions."
   ]
  },
  {
   "cell_type": "markdown",
   "metadata": {},
   "source": [
    "### add_subplot() - Substitute of subplot()"
   ]
  },
  {
   "cell_type": "code",
   "execution_count": null,
   "metadata": {
    "scrolled": true
   },
   "outputs": [],
   "source": [
    "plt.subplot(1, 1, 1)\n",
    "plt.plot([1, 2, 3, 4])\n",
    "plt.ylabel('some numbers')\n",
    "plt.ylim(5, 0) # To invert y-axis"
   ]
  },
  {
   "cell_type": "markdown",
   "metadata": {},
   "source": [
    "To allow more customization, we need to move to a more object-based way to make the plots. This method involves storing various elements of the of the plots in variables (these are objects in object-oriented terminology). The above example becomes:"
   ]
  },
  {
   "cell_type": "code",
   "execution_count": null,
   "metadata": {
    "scrolled": true
   },
   "outputs": [],
   "source": [
    "fig = plt.figure()  # create a figure object\n",
    "ax = fig.add_subplot(1, 1, 1)  # create an axes object in the figure\n",
    "ax.plot([1, 2, 3, 4])\n",
    "ax.set_ylabel('some numbers')\n",
    "ax.set_ylim(5, 0) # To invert y-axis"
   ]
  },
  {
   "cell_type": "markdown",
   "metadata": {},
   "source": [
    "This method is more convenient for advanced plots, and we will be adopting this for the current workshop. One of the biggest advantages of using this method is that it allows users to easily handle multiple figures/axes without getting confused as to which one is currently active."
   ]
  },
  {
   "cell_type": "markdown",
   "metadata": {},
   "source": [
    "Following defines two figures, one with two sets of axes, and one with one set of axes.\n",
    "Subsequently, use ax1.plot(...) to plot to the subplot in fig1, and ax2.plot(...) and ax3.plot(...) to plot in the top and bottom subplots of fig2 respectively."
   ]
  },
  {
   "cell_type": "code",
   "execution_count": null,
   "metadata": {
    "scrolled": false
   },
   "outputs": [],
   "source": [
    "fig1 = plt.figure()\n",
    "fig2 = plt.figure() # Defined all the figures simultaneously\n",
    "\n",
    "ax1 = fig1.add_subplot(1, 1, 1)\n",
    "ax2 = fig2.add_subplot(2, 1, 1)\n",
    "ax3 = fig2.add_subplot(2, 1, 2)\n",
    "\n",
    "ax1.plot(t, f(t), 'b') # Blue Graph\n",
    "ax2.plot(t, f(t), 'g') # Green Graph\n",
    "ax3.plot(t, f(t), 'r') # Red Graph"
   ]
  },
  {
   "cell_type": "markdown",
   "metadata": {},
   "source": [
    "### subplots()"
   ]
  },
  {
   "cell_type": "markdown",
   "metadata": {},
   "source": [
    "You can create all axes in one go.  \n",
    "subplots() returns figure and multidimenionsal numpy array of Axes "
   ]
  },
  {
   "cell_type": "code",
   "execution_count": null,
   "metadata": {
    "scrolled": false
   },
   "outputs": [],
   "source": [
    "fig, axes = plt.subplots(nrows=2, ncols=2) # axes is the multidimensional numpy array of Axes.\n",
    "\n",
    "axes[0,0].plot(t, f(t), 'b') # Blue graph\n",
    "axes[1,0].plot(t, f(t), 'g') # Green graph\n",
    "axes[0,1].plot(t, f(t), 'r') # Red graph\n",
    "axes[1,1].plot(t, f(t), 'k') # Black graph\n",
    "\n",
    "# To iterate over all items (along rows) in a multidimensional numpy array, use the `flat` attribute\n",
    "for ax in axes.flat:\n",
    "    ax.set(xlim=[0, 3])"
   ]
  },
  {
   "cell_type": "markdown",
   "metadata": {},
   "source": [
    "Try the following to see how exactly 'flat' works"
   ]
  },
  {
   "cell_type": "code",
   "execution_count": null,
   "metadata": {},
   "outputs": [],
   "source": [
    "x = np.arange(1, 7).reshape(3, 2) # This creates a multidimensional array.\n",
    "# x = np.arange(1, 13).reshape(3,2,2) # Also try this.\n",
    "print(x)\n",
    "print(type(x))\n",
    "for i in x.flat:\n",
    "    print(i)"
   ]
  },
  {
   "cell_type": "markdown",
   "metadata": {},
   "source": [
    "'sharex' and 'sharey' are useful parameters to subplots()"
   ]
  },
  {
   "cell_type": "code",
   "execution_count": null,
   "metadata": {
    "scrolled": false
   },
   "outputs": [],
   "source": [
    "fig1, axes1 = plt.subplots(2, 2)\n",
    "\n",
    "# Share a X axis with each column of subplots\n",
    "fig2, axes2 = plt.subplots(2, 2, sharex='col')\n",
    "\n",
    "# Share a Y axis with each row of subplots\n",
    "fig3, axes3 = plt.subplots(2, 2, sharey='row')\n",
    "\n",
    "# Share both X and Y axes with all subplots\n",
    "fig4, axes4 = plt.subplots(2, 2, sharex='all', sharey='all')\n",
    "\n",
    "# Note that this is the same as\n",
    "fig5, axes5 = plt.subplots(2, 2, sharex=True, sharey=True)\n",
    "\n",
    "# Setting title of figure is using suptitle()\n",
    "fig1.suptitle('1st')\n",
    "fig2.suptitle('2nd')\n",
    "fig3.suptitle('3rd')\n",
    "fig4.suptitle('4th')\n",
    "fig5.suptitle('5th')"
   ]
  },
  {
   "cell_type": "markdown",
   "metadata": {},
   "source": [
    "plt.subplots() is limited to m x n grids only. If you want to have different number of cells in each row, fig.add_subplot() is preferred.  \n",
    "The following example shows how."
   ]
  },
  {
   "cell_type": "code",
   "execution_count": null,
   "metadata": {
    "scrolled": false
   },
   "outputs": [],
   "source": [
    "fig = plt.figure(figsize=(12,8)) # Try plt.figure? to know more about the parameters of creating a new figure.\n",
    "\n",
    "ax1 = fig.add_subplot(2, 1, 1) # Equivalent to 1st element of 2x1 matrix\n",
    "ax2 = fig.add_subplot(2, 3, 4) # Equivalent to 4th element of 2x3 matrix\n",
    "ax3 = fig.add_subplot(2, 3, 5) # Equivalent to 5th element of 2x3 matrix\n",
    "ax4 = fig.add_subplot(2, 3, 6) # Equivalent to 6th element of 2x3 matrix\n",
    "\n",
    "ax1.plot(t, f(t), 'k') # Black graph \n",
    "ax2.plot(t, f(t), 'b') # Blue graph \n",
    "ax3.plot(t, f(t), 'g') # Green graph \n",
    "ax4.plot(t, f(t), 'r') # Red graph"
   ]
  },
  {
   "cell_type": "markdown",
   "metadata": {},
   "source": [
    "If you want to exchange the left and right graphs. All you need to do is change the axes they are plotted.  \n",
    "If you wish to change to the size, shape and position of graphs, you only need to change the add_subplot() parameters."
   ]
  },
  {
   "cell_type": "markdown",
   "metadata": {},
   "source": [
    "### Twin Axes"
   ]
  },
  {
   "cell_type": "markdown",
   "metadata": {},
   "source": [
    "It is considered useful to have dual x or y axes in a figure. Moreso, when plotting curves with different units together.  \n",
    "Matplotlib supports this with the twinx() and twiny() functions."
   ]
  },
  {
   "cell_type": "code",
   "execution_count": null,
   "metadata": {
    "scrolled": false
   },
   "outputs": [],
   "source": [
    "fig = plt.figure()\n",
    "ax1 = fig.add_subplot(1, 1, 1)\n",
    "# fig.add_subplot(111) gives same result as long as all the three are single digit integer\n",
    "\n",
    "ax2 = ax1.twinx()\n",
    "\n",
    "ts = np.linspace(0, 10, 100)\n",
    "ax1.plot(ts, ts ** 2, 'b-')\n",
    "ax2.plot(ts, 1000 / (ts + 1), 'r-')\n",
    "\n",
    "# set_ylabel sets the properties of y-axis label, set_xlabel sets the properties of x-axis label\n",
    "ax1.set_ylabel('Density (cgs)', color='blue')\n",
    "ax2.set_ylabel('Temperature (K)', color='red')\n",
    "ax1.set_xlabel('Time (s)')"
   ]
  },
  {
   "cell_type": "markdown",
   "metadata": {},
   "source": [
    "### Gridspec"
   ]
  },
  {
   "cell_type": "markdown",
   "metadata": {},
   "source": [
    "add_subplot() is a powerful tool but you can't make an element which covers 2/3rd of a row.  \n",
    "For that add_subplot() is used in association with gridspec."
   ]
  },
  {
   "cell_type": "code",
   "execution_count": null,
   "metadata": {
    "scrolled": true
   },
   "outputs": [],
   "source": [
    "fig = plt.figure(constrained_layout=True)\n",
    "# Remove the constrained_layout part and see the difference.\n",
    "\n",
    "gs = fig.add_gridspec(2, 3) # Creates 6 elements in form of 2x3 grid\n",
    "\n",
    "# Merges 1st element(0,0), 2nd element(0,1)\n",
    "ax2 = fig.add_subplot(gs[0, :-1])\n",
    "# [0, :-1] implies 1st row and all columns before last (Recall slicing of list)\n",
    "ax2.set_title('gs[0, :-1]')\n",
    "\n",
    "# Merges 3rd element(0,2), 6th element(1,2)\n",
    "ax3 = fig.add_subplot(gs[:, -1])\n",
    "ax3.set_title('gs[:, -1]')\n",
    "\n",
    "# Only 4th element(1,0)\n",
    "ax4 = fig.add_subplot(gs[1, 0])\n",
    "ax4.set_title('gs[1, 0]')\n",
    "\n",
    "# Only 5th element(1,1)\n",
    "ax5 = fig.add_subplot(gs[1, -2])\n",
    "ax5.set_title('gs[1, -2]')"
   ]
  },
  {
   "cell_type": "markdown",
   "metadata": {},
   "source": [
    "Another advantage of gridspec is that you can set ratio of width and height."
   ]
  },
  {
   "cell_type": "code",
   "execution_count": null,
   "metadata": {
    "scrolled": false
   },
   "outputs": [],
   "source": [
    "fig = plt.figure(figsize=(8,6), constrained_layout=True)\n",
    "widths = [2, 3, 1.5]\n",
    "heights = [1, 3, 2]\n",
    "spec = fig.add_gridspec(ncols=3, nrows=3, width_ratios=widths, height_ratios=heights)\n",
    "for row in range(3):\n",
    "    for col in range(3):\n",
    "        ax = fig.add_subplot(spec[row, col])\n",
    "        ax.set(title=str(row*3 + col))"
   ]
  },
  {
   "cell_type": "markdown",
   "metadata": {},
   "source": [
    "### add_axes()"
   ]
  },
  {
   "cell_type": "markdown",
   "metadata": {},
   "source": [
    "We see that gridspec is very useful but what if our Axes pattern isn't grid like (like inset)  \n",
    "fig.add_axes() comes to rescue.  \n",
    "It takes a list of four elements as the parameter [x, y, width, height] where (x,y) is w.r.t the bottom left corner of the figure."
   ]
  },
  {
   "cell_type": "code",
   "execution_count": null,
   "metadata": {
    "scrolled": true
   },
   "outputs": [],
   "source": [
    "fig = plt.figure()\n",
    "ax1 = fig.add_axes([0.1, 0.1, 0.8, 0.8]) \n",
    "ax2 = fig.add_axes([0.6, 0.6, 0.16, 0.16])\n",
    "ax3 = fig.add_axes([0.2, 0.2, 0.3, 0.3])\n",
    "\n",
    "ax1.set(title = 'Axes1')\n",
    "ax2.set(title = 'Axes2')\n",
    "ax3.set(title = 'Axes3')"
   ]
  },
  {
   "cell_type": "markdown",
   "metadata": {},
   "source": [
    "plt.plot() returns a Line2D object  \n",
    "Try plt.plot? to find more parameters.\n",
    "\n",
    "plt.subplot(), fig.add_subplot(), fig.add_axes() return an Axes object  \n",
    "Try plt.subplot? to find more parameters."
   ]
  },
  {
   "cell_type": "markdown",
   "metadata": {},
   "source": [
    "## Your assignment ..."
   ]
  },
  {
   "cell_type": "markdown",
   "metadata": {},
   "source": [
    "... should you choose to accept it will be the following:"
   ]
  },
  {
   "cell_type": "markdown",
   "metadata": {},
   "source": [
    "As you may already know, stars go through several stages in its life cycle as they evolve. They spend much of their time in the 'main sequence' where they burn hydrogen at the core (like our Sun currently) and once they exhaust all the core hydrogen they evolve into red giants and then depending on their initial masses, follow different paths of evolution (read more on stellar evolution [here](https://en.wikipedia.org/wiki/Stellar_evolution)) \n",
    "\n",
    "Now as a star evolves through all these stages, its temperature changes and so does its luminosity. A nice way therefore, to study stars, is to plot their luminosity and temperature at every stage. Such a plot is called a [Hertzsprung–Russell (HR) diagram\n",
    "](https://en.wikipedia.org/wiki/Hertzsprung%E2%80%93Russell_diagram).\n",
    "\n",
    "But obviously we cannot look at a single star and study its evolution as a star takes billions of years to evolve, so we study stars at different stages of their evolution. A very good place to find stars of different ages together, is star clusters and particularly globular clusters as they tend to be quite old and hence contain stars in almost every stage. So we take all the stars in the cluster, and plot their HR diagram.\n",
    "\n",
    "Now in the diagram itself, temperature is plotted on the x-axis, but in reverse, i.e, temperature decreases on moving away from origin on the x axis, while luminosity is plotted on the y axis as usual. But instead of plotting temperature, we plot something called as '[color](https://en.wikipedia.org/wiki/Color_index)', which is the difference between the magnitudes of the star directly observed in different wavelength bands. This color turns out to increase as temperature decreases. Similarly for the luminosity, we plot the magnitude in a given wavelength band, and as we have seen before, higher the luminosity, lower the magnitude.\n"
   ]
  },
  {
   "cell_type": "markdown",
   "metadata": {},
   "source": [
    "#### Your task:"
   ]
  },
  {
   "cell_type": "markdown",
   "metadata": {},
   "source": [
    "- To plot the HR diagram (or rather the color-magnitude diagram) of the given cluster, in different color bands. (See explanation below)\n",
    "- Once you have made 4 such plots, put them in a 2 by 2 subplot grid with both the x and y axes shared and each subplot and the axes labeled."
   ]
  },
  {
   "cell_type": "markdown",
   "metadata": {},
   "source": [
    "The data has been provided to you in the 'NGC5272.csv', which contains data for the globular cluster [M3](https://en.wikipedia.org/wiki/Messier_3). The columns indicate different wavelength bands, and your job is to plot HR diagrams for pairwise filters, sequentially, i.e., F275W vs F275W-F336W, F336W vs F336W-F438W, F438W vs F438W-F606W and F606W vs F606W-F814W. The last column gives the probability of individual stars (you have encountered this before; -1.0 indicates data for the given star is not available). Use this probability to filter out low probability stars, and ensure the orientation of the axes based on the properties of the HR diagram mentioned above."
   ]
  },
  {
   "cell_type": "markdown",
   "metadata": {},
   "source": [
    "Based on your plots try to reason which color is the best to study the cluster in, and why."
   ]
  }
 ],
 "metadata": {
  "kernelspec": {
   "display_name": "Python 3",
   "language": "python",
   "name": "python3"
  },
  "language_info": {
   "codemirror_mode": {
    "name": "ipython",
    "version": 3
   },
   "file_extension": ".py",
   "mimetype": "text/x-python",
   "name": "python",
   "nbconvert_exporter": "python",
   "pygments_lexer": "ipython3",
   "version": "3.8.2"
  }
 },
 "nbformat": 4,
 "nbformat_minor": 4
}
