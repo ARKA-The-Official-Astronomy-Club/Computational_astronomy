{
 "cells": [
  {
   "cell_type": "markdown",
   "metadata": {},
   "source": [
    "# Matplotlib 2 : Sensationalising the plots"
   ]
  },
  {
   "cell_type": "code",
   "execution_count": null,
   "metadata": {},
   "outputs": [],
   "source": [
    "import matplotlib.pyplot as plt\n",
    "import numpy as np\n",
    "import matplotlib"
   ]
  },
  {
   "cell_type": "code",
   "execution_count": null,
   "metadata": {},
   "outputs": [],
   "source": [
    "%matplotlib inline"
   ]
  },
  {
   "cell_type": "code",
   "execution_count": null,
   "metadata": {},
   "outputs": [],
   "source": [
    "def f(t):\n",
    "    \"\"\"Python function to calculate a enclosed sinusoid\"\"\"\n",
    "    val = 1 / ((t-2.5)**2 + 1) * np.cos(4*np.pi*t)\n",
    "    return val\n",
    "\n",
    "t = np.arange(0.0, 5.0, 0.02)"
   ]
  },
  {
   "cell_type": "markdown",
   "metadata": {},
   "source": [
    "## Modifying axis characteristics"
   ]
  },
  {
   "cell_type": "markdown",
   "metadata": {},
   "source": [
    "Axis characteristics include position and customizing ticks and spines."
   ]
  },
  {
   "cell_type": "markdown",
   "metadata": {},
   "source": [
    "### Ticks"
   ]
  },
  {
   "cell_type": "markdown",
   "metadata": {},
   "source": [
    "Ticks are the values used to show specific points on the coordinate axis. It can be a number or a string.  \n",
    "Whenever we plot a graph, the axes adjust and take the default ticks. Matplotlib’s default ticks are generally sufficient in common situations but are in no way optimal for every plot.  \n",
    "Here, we will see how to customize these ticks as per our need."
   ]
  },
  {
   "cell_type": "code",
   "execution_count": null,
   "metadata": {
    "scrolled": false
   },
   "outputs": [],
   "source": [
    "fig = plt.figure() # Initialize the figure and subplot\n",
    "ax = fig.add_subplot(1, 1, 1)\n",
    "ax.plot(t, f(t))\n",
    "\n",
    "# Set the font size via a keyword argument\n",
    "ax.set_title(\"My plot\", fontsize='large')\n",
    "\n",
    "# Retrieve an element of a plot and set properties\n",
    "for tick in ax.xaxis.get_ticklabels():\n",
    "    tick.set_fontsize('large')\n",
    "    tick.set_color('blue')\n",
    "    tick.set_weight('bold')"
   ]
  },
  {
   "cell_type": "markdown",
   "metadata": {},
   "source": [
    "In some cases, you may want to specify which tick locations should be shown. This can be done with:"
   ]
  },
  {
   "cell_type": "code",
   "execution_count": null,
   "metadata": {},
   "outputs": [],
   "source": [
    "fig = plt.figure()\n",
    "ax = fig.add_subplot(1, 1, 1)\n",
    "ax.set_xticks([0.1, 2.5, 3.7])\n",
    "ax.set_yticks([-0.2, 0.4, 0.8])\n",
    "ax.plot(t, f(t))"
   ]
  },
  {
   "cell_type": "markdown",
   "metadata": {},
   "source": [
    "It is also easy to specify what the label strings should be explicitly."
   ]
  },
  {
   "cell_type": "code",
   "execution_count": null,
   "metadata": {},
   "outputs": [],
   "source": [
    "fig = plt.figure()\n",
    "ax = fig.add_subplot(1, 1, 1)\n",
    "ax.plot(t, f(t))\n",
    "\n",
    "ax.set_xticks([0.1, 2.5, 3.7])\n",
    "ax.set_xticklabels(['a', 'b', 'c'])\n",
    "ax.set_yticks([-0.2, 0.4, 0.8])\n",
    "ax.set_yticklabels(['first', 'second', 'third'])"
   ]
  },
  {
   "cell_type": "markdown",
   "metadata": {},
   "source": [
    "If you want to change the tick labels with set_ticklabels(), use this function with set_ticks() hand-in-hand to make it easy to know which ticks you are assigning the labels for.  \n",
    "This can be used for example if you would like to make a plot as a function of spectral type, or if you want to format the labels in a very specific way."
   ]
  },
  {
   "cell_type": "code",
   "execution_count": null,
   "metadata": {},
   "outputs": [],
   "source": [
    "# Initialize figure and axes\n",
    "fig = plt.figure(figsize=(6,4))\n",
    "ax = fig.add_axes([0.1, 0.1, 0.8, 0.8])\n",
    "\n",
    "# Define spectral types\n",
    "spectral_id = [1, 2, 3, 4, 5, 6, 7]\n",
    "spectral_types = ['O', 'B', 'A', 'F', 'G', 'K', 'M']\n",
    "\n",
    "# Plot the data\n",
    "ax.plot(spectral_id, [4, 3, 2, 3, 4, 5, 4], 'ro')\n",
    "\n",
    "# Set the limits\n",
    "ax.set_xlim(0.5, 7.5)\n",
    "ax.set_ylim(0, 10)\n",
    "\n",
    "# Set the custom ticks on the x-axis\n",
    "ax.set_xticks(spectral_id)\n",
    "ax.set_xticklabels(spectral_types)\n",
    "\n",
    "# Set the axis labels\n",
    "ax.set_xlabel(\"Spectral type\")\n",
    "ax.set_ylabel(\"Number of sources\")"
   ]
  },
  {
   "cell_type": "markdown",
   "metadata": {},
   "source": [
    "In the following figure,  \n",
    "Axes 1 shows how to hide ticks and labels on the x axis.  \n",
    "Axes 2 shows how to hide only labels, not the ticks."
   ]
  },
  {
   "cell_type": "code",
   "execution_count": null,
   "metadata": {},
   "outputs": [],
   "source": [
    "fig = plt.figure(figsize=(8,4))\n",
    "ax1 = fig.add_subplot(1, 2, 1)\n",
    "ax2 = fig.add_subplot(1, 2, 2)\n",
    "\n",
    "ax1.plot(t,f(t))\n",
    "ax2.plot(t,f(t))\n",
    "\n",
    "ax1.set(title = 'Axes 1')\n",
    "ax2.set(title = 'Axes 2')\n",
    "\n",
    "ax1.set_xticks([])\n",
    "ax2.set_xticklabels('')"
   ]
  },
  {
   "cell_type": "markdown",
   "metadata": {},
   "source": [
    "### Spines"
   ]
  },
  {
   "cell_type": "markdown",
   "metadata": {},
   "source": [
    "Spines are the lines connecting the axis tick marks and noting the boundaries of the data area. They can be placed at arbitrary positions.  \n",
    "See [function:set_position](https://matplotlib.org/api/spines_api.html#matplotlib.spines.Spine.set_position) for more information."
   ]
  },
  {
   "cell_type": "code",
   "execution_count": null,
   "metadata": {},
   "outputs": [],
   "source": [
    "# Constrained layout makes sure the labels don't overlap the axes.\n",
    "fig = plt.figure(figsize=(12,8))\n",
    "\n",
    "ax1 = fig.add_axes([0.1, 0.6, 0.4, 0.4])\n",
    "ax1.plot(t, f(t))\n",
    "ax1.set_title('1. normal spines')\n",
    "\n",
    "ax2 = fig.add_axes([0.6, 0.1, 0.4, 0.4])\n",
    "ax2.plot(t, f(t))\n",
    "ax2.set_title('2. bottom-left spines')\n",
    "\n",
    "ax3 = fig.add_axes([0.1, 0.1, 0.4, 0.4])\n",
    "ax3.plot(t, f(t))\n",
    "ax3.set_title('3. changing length of spines')\n",
    "\n",
    "ax4 = fig.add_axes([0.6, 0.6, 0.4, 0.4])\n",
    "ax4.plot(t, f(t))\n",
    "ax4.set_title('4. normal spine - opposite ticks')\n",
    "\n",
    "# Hide the right and top spines\n",
    "ax2.spines['right'].set_visible(False)\n",
    "ax2.spines['top'].set_visible(False)\n",
    "\n",
    "# Only draw spine between the certain ticks\n",
    "ax3.spines['left'].set_bounds(-1.5, 1.5)\n",
    "ax3.spines['bottom'].set_bounds(1 ,4)\n",
    "\n",
    "# Switching tick position\n",
    "ax4.yaxis.set_ticks_position('right')\n",
    "ax4.xaxis.set_ticks_position('top')"
   ]
  },
  {
   "cell_type": "markdown",
   "metadata": {},
   "source": [
    "### Secondary axis"
   ]
  },
  {
   "cell_type": "markdown",
   "metadata": {},
   "source": [
    "This is different from [Twin Axes](./1.ipynb#Twin-Axes) as in this you can create another x-axis or y-axis on which you can have different scale for the same plot.  \n",
    "For example, here, one x-axis shows angle in degrees while other in radians."
   ]
  },
  {
   "cell_type": "code",
   "execution_count": null,
   "metadata": {},
   "outputs": [],
   "source": [
    "fig = plt.figure(figsize=(6,4))\n",
    "ax = fig.add_axes([0.1, 0.1, 0.8, 0.8])\n",
    "\n",
    "x = np.linspace(0, 5*np.pi, 500)\n",
    "\n",
    "ax.plot(x, np.sin(x))\n",
    "\n",
    "ax.set_xlabel('angle [deg]')\n",
    "\n",
    "def deg2rad(x):\n",
    "    return x * np.pi / 180\n",
    "\n",
    "def rad2deg(x):\n",
    "    return x * 180 / np.pi\n",
    "\n",
    "secax = ax.secondary_xaxis(location='top', functions=(deg2rad, rad2deg))\n",
    "secax.set_xlabel('angle [rad]') # Set the label this way as set_xlabel is for the primary axis."
   ]
  },
  {
   "cell_type": "markdown",
   "metadata": {},
   "source": [
    "secondary_xaxis() created a secondary x-axis.  \n",
    "The first and required parameter is location (where you want it to be).  \n",
    "This secondary axis can have a different scale than the main axis by providing both a forward and an inverse conversion function in a tuple to the functions kwarg (keyword argument).  "
   ]
  },
  {
   "cell_type": "markdown",
   "metadata": {},
   "source": [
    "## Working with text and shapes"
   ]
  },
  {
   "cell_type": "markdown",
   "metadata": {},
   "source": [
    "This includes making legends, text fields, annotations and common shapes."
   ]
  },
  {
   "cell_type": "markdown",
   "metadata": {},
   "source": [
    "### Legend and its positioning"
   ]
  },
  {
   "cell_type": "code",
   "execution_count": null,
   "metadata": {},
   "outputs": [],
   "source": [
    "# facecolor is an atribute of figure, axes(plot), legend (any box)\n",
    "\n",
    "fig = plt.figure(figsize=(12,4), facecolor='yellow')\n",
    "ax1 = fig.add_subplot(1, 2, 1)\n",
    "\n",
    "x = np.linspace(1, 8, 30)\n",
    "ax1.plot(x, x ** 1.5, 'ro', label='density')\n",
    "ax1.plot(x, 20/x, 'bx', label='temperature')\n",
    "\n",
    "ax2 = fig.add_subplot(1, 2, 2, facecolor='grey')\n",
    "ax2.plot(x, x ** 1.5, 'ro', label='density')\n",
    "ax2.plot(x, 20/x, 'bx', label='temperature')\n",
    "\n",
    "plt.legend(loc='best', facecolor='yellow', title='key')\n",
    "# loc can be 'best' or something like 'bottom left' or 'center'"
   ]
  },
  {
   "cell_type": "markdown",
   "metadata": {},
   "source": [
    "### Colorbar"
   ]
  },
  {
   "cell_type": "code",
   "execution_count": null,
   "metadata": {},
   "outputs": [],
   "source": [
    "fig = plt.figure(figsize=(8,6))\n",
    "\n",
    "ax1 = fig.add_axes([0.1, 0.1, 0.3, 0.8])\n",
    "ax2 = fig.add_axes([0.6, 0.1, 0.3, 0.8])\n",
    "x = np.random.random(400)\n",
    "y = np.random.random(400)\n",
    "c = np.random.randint(low=1, high=500, size=400)\n",
    "\n",
    "s1 = ax1.scatter(x, y, c=c, edgecolor='none') # c is for color\n",
    "s2 = ax2.scatter(x, y, c=c, edgecolor='none', norm=matplotlib.colors.LogNorm()) # colorbar is logarithmic\n",
    "\n",
    "colorbar_ax1 = fig.add_axes([0.45, 0.1, 0.05, 0.8])\n",
    "colorbar_ax2 = fig.add_axes([0.95, 0.1, 0.05, 0.8])\n",
    "\n",
    "fig.colorbar(s1, cax=colorbar_ax1) # cax means colorbar axes\n",
    "fig.colorbar(s2, cax=colorbar_ax2)"
   ]
  },
  {
   "cell_type": "markdown",
   "metadata": {},
   "source": [
    "Note that colorbar is a __method of the figure__, not the axes. And thus, you should define another axes for it."
   ]
  },
  {
   "cell_type": "markdown",
   "metadata": {},
   "source": [
    "### Patches"
   ]
  },
  {
   "cell_type": "markdown",
   "metadata": {},
   "source": [
    "Matplotlib has another module in it which helps in making common shapes like rectangle, circle, ellipse."
   ]
  },
  {
   "cell_type": "code",
   "execution_count": null,
   "metadata": {},
   "outputs": [],
   "source": [
    "import matplotlib.patches as patches"
   ]
  },
  {
   "cell_type": "markdown",
   "metadata": {},
   "source": [
    "Rectangle, Ellipse, Circle, Arc, Arrow, Polygon, RegularPolygon, Wedge are commonly used functions of Patches.  "
   ]
  },
  {
   "cell_type": "markdown",
   "metadata": {},
   "source": [
    "Following we will give you an example of Ellipse and how to include patches inside an Axes."
   ]
  },
  {
   "cell_type": "code",
   "execution_count": null,
   "metadata": {},
   "outputs": [],
   "source": [
    "fig = plt.figure()\n",
    "ax = fig.add_subplot(111)\n",
    "\n",
    "ax.set_xlim([0,10])\n",
    "el1 = patches.Ellipse(xy=(5,0.5), width=2, height=0.4, angle=12, color='blue')\n",
    "el2 = patches.Ellipse(xy=(8,0.8), width=3, height=0.2, fill=False, color='blue')\n",
    "el3 = patches.Ellipse(xy=(2,0.2), width=0.2, height=2, angle=90, facecolor='yellow', edgecolor='black')\n",
    "\n",
    "ax.add_patch(el1)\n",
    "ax.add_patch(el2)\n",
    "ax.add_patch(el3)"
   ]
  },
  {
   "cell_type": "code",
   "execution_count": null,
   "metadata": {},
   "outputs": [],
   "source": [
    "# Try the following to find out the parameters using:\n",
    "# patches.Ellipse?\n",
    "# patches.Circle?\n",
    "# patches.Arc?\n",
    "# patches.Rectangle?\n",
    "# patches.Arrow?\n",
    "# patches.Polygon?\n",
    "# patches.RegularPolygon?\n",
    "# patches.Wedge?\n",
    "\n",
    "# Also, type 'patches.' and then press Tab twice for auto-complete (if you didn't discovered until now)"
   ]
  },
  {
   "cell_type": "markdown",
   "metadata": {},
   "source": [
    "### Text fields"
   ]
  },
  {
   "cell_type": "code",
   "execution_count": null,
   "metadata": {},
   "outputs": [],
   "source": [
    "fig = plt.figure(figsize=(6,6))\n",
    "\n",
    "ax1 = fig.add_axes([0.1,0.1,0.8,0.8])\n",
    "ax2 = fig.add_axes([0.2,0.2,0.4,0.4])\n",
    "\n",
    "ax1.text(x=0.8, y=0.8, s='axes\\n1', size=20, style='italic', bbox={'facecolor': 'red', 'alpha': 0.5, 'pad': 10})\n",
    "ax2.text(x=0.7, y=0.7, s='axes\\n2', size=16, alpha=0.5, ha='center', va='center')"
   ]
  },
  {
   "cell_type": "markdown",
   "metadata": {},
   "source": [
    "(x,y) are w.r.t. bottom left corner of the Axes. (Required)  \n",
    "'s' is the string to be shown. (Required)  \n",
    "\n",
    "'size' is the fontsize.  \n",
    "'alpha' represents the opacity (0 is transparent, 1 is opaque). Default : alpha = 1   \n",
    "'style' can be 'bold', 'italic' or 'oblique'\n",
    "\n",
    "'bbox' is a dictonary containing the features of the bounding box of the text. (patches.Rectangle)\n",
    "\n",
    "ha, va (horizontal and vertical alignment) Default : ha = 'left', 'va' = 'baseline'  \n",
    "'ha' causing centering of text horizontally (see '2' in 2nd Text)\n",
    "'ha' and 'va' also shift the origin of the text field to its center  \n",
    "(see bottom-left corner of 1st Text corresponds to (0.8, 0.8) of Axes 1 while center of 2nd Text corresponds to (0.7, 0.7) of Axes 2)"
   ]
  },
  {
   "cell_type": "markdown",
   "metadata": {},
   "source": [
    "### Annotations"
   ]
  },
  {
   "cell_type": "code",
   "execution_count": null,
   "metadata": {},
   "outputs": [],
   "source": [
    "fig = plt.figure(figsize=(8,12))\n",
    "ax1 = fig.add_axes([0.1, 0.7, 0.8, 0.25])\n",
    "ax2 = fig.add_axes([0.1, 0.4, 0.8, 0.25])\n",
    "ax3 = fig.add_axes([0.1, 0.1, 0.8, 0.25])\n",
    "\n",
    "ax1.annotate(s='Nothing', xy=(0.2, 0.6))\n",
    "\n",
    "ax1.annotate(s='Simple', xy=(0.2, 0.2), xycoords='data', xytext=(0.8, 0.8), textcoords='data',\n",
    "            arrowprops=dict(arrowstyle='->', connectionstyle='arc3'))\n",
    "\n",
    "ax2.annotate(s='Good', xy=(0.2, 0.2), xycoords='data', xytext=(0.8, 0.8), textcoords='data', size=20,\n",
    "             va='center', ha='center', arrowprops=dict(arrowstyle='simple', connectionstyle='arc3,rad=-0.2'))\n",
    "\n",
    "ax3.annotate(s='Better', xy=(0.2, 0.2), xycoords='data', xytext=(0.8, 0.8), textcoords='data', size=20,\n",
    "             va='center', ha='center', bbox=dict(boxstyle='round4', fc='w'),\n",
    "             arrowprops=dict(arrowstyle='-|>', connectionstyle='arc3,rad=-0.2', fc='w'))"
   ]
  },
  {
   "cell_type": "code",
   "execution_count": null,
   "metadata": {},
   "outputs": [],
   "source": [
    "# These are some of the ways to annotate. To find the meaning of each paramater and more, try:\n",
    "# plt.annotate?\n",
    "# patches.FancyArrowPatch?"
   ]
  },
  {
   "cell_type": "markdown",
   "metadata": {},
   "source": [
    "## Your assignment ..."
   ]
  },
  {
   "cell_type": "markdown",
   "metadata": {},
   "source": [
    "... should you choose to accept it will be the following:"
   ]
  },
  {
   "cell_type": "markdown",
   "metadata": {},
   "source": [
    "In the assignment of part 1 of this tutorial, you were asked to plot HR diagrams in different filters and pick out the one best suited to study the cluster. We will now work with that particular plot.\n",
    "\n",
    "The significance of HR diagrams, as mentioned in the last assignment, is to be able to identify stages in stellar evolution. You will be required to first read up a bit on HR diagrams (hopefully you have already done this as part of the first assignment) to identify parts of an HR diagram with known stages of evolution. You can look [here](https://ase.tufts.edu/cosmos/view_picture.asp?id=1413) to get an idea."
   ]
  },
  {
   "cell_type": "markdown",
   "metadata": {},
   "source": [
    "#### Your task:"
   ]
  },
  {
   "cell_type": "markdown",
   "metadata": {},
   "source": [
    "* In the \"best\" plot chosen by you, identify the following regions (Note that there can be some ambiguity in these regions as the sections are not clearly defined and they appear different from cluster to cluster, but you should be able to broadly identify the regions):\n",
    "    * Main sequence\n",
    "    * Subgiant branch\n",
    "    * Red Giant branch\n",
    "    * Asymptotic Giant branch \n",
    "    * Horizontal branch \n",
    "    * Turn-off point\n",
    "* Mark out these regions using properly oriented ellipses. Also make sure you label and annotate the plot.\n",
    "* Add a secondary axis to the plot for luminosty. You must calculate luminosity from the magnitude using the information given below. "
   ]
  },
  {
   "cell_type": "markdown",
   "metadata": {},
   "source": [
    "Distance to the cluster is 10.4 kpc. The absolute magnitude of the sun in each wavelength band is 8.553 for F275W, 6.64 for F336W, 5.336 for F438W, 4.727 for F606W and 4.524 for F814W. You may use the following formulae (covered in tutorial 1), and note that each is applicable when each quantity is measured in the particular wavelength band.\n",
    "\n",
    "$$m = -2.5log\\big(\\frac{F}{F_0}\\big)$$\n",
    "$$m - M = 5 (log(d)-1)$$"
   ]
  }
 ],
 "metadata": {
  "kernelspec": {
   "display_name": "Python 3",
   "language": "python",
   "name": "python3"
  },
  "language_info": {
   "codemirror_mode": {
    "name": "ipython",
    "version": 3
   },
   "file_extension": ".py",
   "mimetype": "text/x-python",
   "name": "python",
   "nbconvert_exporter": "python",
   "pygments_lexer": "ipython3",
   "version": "3.8.2"
  }
 },
 "nbformat": 4,
 "nbformat_minor": 4
}
