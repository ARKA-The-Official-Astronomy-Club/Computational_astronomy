{
 "cells": [
  {
   "cell_type": "markdown",
   "metadata": {},
   "source": [
    "# Solved Example of Matplotlib 2"
   ]
  },
  {
   "cell_type": "code",
   "execution_count": null,
   "metadata": {},
   "outputs": [],
   "source": [
    "import matplotlib.pyplot as plt\n",
    "import numpy as np"
   ]
  },
  {
   "cell_type": "code",
   "execution_count": null,
   "metadata": {
    "scrolled": true
   },
   "outputs": [],
   "source": [
    "%matplotlib inline"
   ]
  },
  {
   "cell_type": "markdown",
   "metadata": {},
   "source": [
    "We will be plotting sine and cosine graphs.  \n",
    "Here, we define the data for the graphs."
   ]
  },
  {
   "cell_type": "code",
   "execution_count": null,
   "metadata": {},
   "outputs": [],
   "source": [
    "X = np.linspace(-np.pi, np.pi, 256, endpoint=True)\n",
    "C,S = np.cos(X), np.sin(X)"
   ]
  },
  {
   "cell_type": "markdown",
   "metadata": {},
   "source": [
    "Starting with just simple plotting."
   ]
  },
  {
   "cell_type": "code",
   "execution_count": null,
   "metadata": {},
   "outputs": [],
   "source": [
    "plt.plot(X, C)\n",
    "plt.plot(X, S)"
   ]
  },
  {
   "cell_type": "markdown",
   "metadata": {},
   "source": [
    "Now, let's define its size, colors and introduce object-oriented approach needed later.  \n",
    "We should also define the end limit of both axes (here, plural of axis)"
   ]
  },
  {
   "cell_type": "code",
   "execution_count": null,
   "metadata": {},
   "outputs": [],
   "source": [
    "fig = plt.figure(figsize=(8,5), dpi=80) # Create a new figure of size 8x5 points, using 80 dots per inch\n",
    "ax = fig.add_subplot(111) # Create a new subplot from a grid of 1x1\n",
    "\n",
    "# Plot cosine using blue color with a continuous line of width 2.5 (pixels)\n",
    "ax.plot(X, C, color=\"blue\", linewidth=2.5, linestyle=\"-\")\n",
    "# Plot sine using red color with a continuous line of width 2.5 (pixels)\n",
    "ax.plot(X, S, color=\"red\", linewidth=2.5, linestyle=\"-\")\n",
    "\n",
    "ax.set_xlim(X.min()*1.1, X.max()*1.1) # Set x limits\n",
    "ax.set_ylim(C.min()*1.1, C.max()*1.1) # Set y limits"
   ]
  },
  {
   "cell_type": "markdown",
   "metadata": {},
   "source": [
    "Now, organizing the ticks."
   ]
  },
  {
   "cell_type": "code",
   "execution_count": null,
   "metadata": {},
   "outputs": [],
   "source": [
    "fig = plt.figure(figsize=(8,5), dpi=80)\n",
    "ax = fig.add_subplot(111)\n",
    "\n",
    "ax.plot(X, C, color=\"blue\", linewidth=2.5, linestyle=\"-\")\n",
    "ax.plot(X, S, color=\"red\", linewidth=2.5, linestyle=\"-\")\n",
    "\n",
    "ax.set_xlim(X.min()*1.1, X.max()*1.1)\n",
    "ax.set_xticks([-np.pi, -np.pi/2, 0, np.pi/2, np.pi]) ## This line is new or has been updated.\n",
    "\n",
    "ax.set_ylim(C.min()*1.1, C.max()*1.1)\n",
    "ax.set_yticks([-1, 0, +1]) ##"
   ]
  },
  {
   "cell_type": "markdown",
   "metadata": {},
   "source": [
    "What follows is customization of tick labels to mathematical symbols."
   ]
  },
  {
   "cell_type": "code",
   "execution_count": null,
   "metadata": {},
   "outputs": [],
   "source": [
    "fig = plt.figure(figsize=(8,5), dpi=80)\n",
    "ax = fig.add_subplot(111)\n",
    "\n",
    "ax.plot(X, C, color=\"blue\", linewidth=2.5, linestyle=\"-\")\n",
    "ax.plot(X, S, color=\"red\", linewidth=2.5, linestyle=\"-\")\n",
    "\n",
    "ax.set_xlim(X.min()*1.1, X.max()*1.1)\n",
    "ax.set_xticks([-np.pi, -np.pi/2, 0, np.pi/2, np.pi])\n",
    "ax.set_xticklabels([r'$-\\pi$', r'$-\\pi/2$', r'$0$', r'$+\\pi/2$', r'$+\\pi$']) ##\n",
    "\n",
    "ax.set_ylim(C.min()*1.1,C.max()*1.1)\n",
    "ax.set_yticks([-1, 0, +1])\n",
    "ax.set_yticklabels([r'$-1$', r'$0$', r'$+1$']) ##"
   ]
  },
  {
   "cell_type": "markdown",
   "metadata": {},
   "source": [
    "Now, comes a new part - Moving spines so that they look like x-axis and y-axis in the middle of the graph(plot).\n",
    "\n",
    "By default, x-axis and y-axis ticks are shown in bottom and left spines.  \n",
    "So, we make the top and right spines invisible and then shift the bottom and left spines to the desired position.  \n",
    "set_position('data', 0) implies that the position is based on the data and it should be y=0 (for x-axis) and x=0 (for y-axis)\n",
    "\n",
    "We add this part of code just after defining the Axes.  "
   ]
  },
  {
   "cell_type": "code",
   "execution_count": null,
   "metadata": {},
   "outputs": [],
   "source": [
    "fig = plt.figure(figsize=(8,5), dpi=80)\n",
    "ax = fig.add_subplot(111)\n",
    "\n",
    "ax.spines['right'].set_visible(False) ##\n",
    "ax.spines['top'].set_visible(False) ##\n",
    "ax.xaxis.set_ticks_position('bottom') ##\n",
    "ax.spines['bottom'].set_position(('data', 0)) ##\n",
    "ax.yaxis.set_ticks_position('left') ##\n",
    "ax.spines['left'].set_position(('data', 0)) ##\n",
    "\n",
    "ax.plot(X, C, color=\"blue\", linewidth=2.5, linestyle=\"-\")\n",
    "ax.plot(X, S, color=\"red\", linewidth=2.5, linestyle=\"-\")\n",
    "\n",
    "ax.set_xlim(X.min()*1.1, X.max()*1.1)\n",
    "ax.set_xticks([-np.pi, -np.pi/2, 0, np.pi/2, np.pi])\n",
    "ax.set_xticklabels([r'$-\\pi$', r'$-\\pi/2$', r'$0$', r'$+\\pi/2$', r'$+\\pi$'])\n",
    "\n",
    "ax.set_ylim(C.min()*1.1,C.max()*1.1)\n",
    "ax.set_yticks([-1, 0, +1])\n",
    "ax.set_yticklabels([r'$-1$', r'$0$', r'$+1$'])"
   ]
  },
  {
   "cell_type": "markdown",
   "metadata": {},
   "source": [
    "A simple but important task of adding legend."
   ]
  },
  {
   "cell_type": "code",
   "execution_count": null,
   "metadata": {},
   "outputs": [],
   "source": [
    "fig = plt.figure(figsize=(8,5), dpi=80)\n",
    "ax = fig.add_subplot(111)\n",
    "\n",
    "ax.spines['right'].set_visible(False)\n",
    "ax.spines['top'].set_visible(False)\n",
    "ax.xaxis.set_ticks_position('bottom')\n",
    "ax.spines['bottom'].set_position(('data',0))\n",
    "ax.yaxis.set_ticks_position('left')\n",
    "ax.spines['left'].set_position(('data',0))\n",
    "\n",
    "ax.plot(X, C, color=\"blue\", linewidth=2.5, linestyle=\"-\", label=\"cosine\")\n",
    "ax.plot(X, S, color=\"red\", linewidth=2.5, linestyle=\"-\", label=\"sine\")\n",
    "\n",
    "ax.set_xlim(X.min()*1.1, X.max()*1.1)\n",
    "ax.set_xticks([-np.pi, -np.pi/2, 0, np.pi/2, np.pi])\n",
    "ax.set_xticklabels([r'$-\\pi$', r'$-\\pi/2$', r'$0$', r'$+\\pi/2$', r'$+\\pi$'])\n",
    "\n",
    "ax.set_ylim(C.min()*1.1,C.max()*1.1)\n",
    "ax.set_yticks([-1, 0, +1])\n",
    "ax.set_yticklabels([r'$-1$', r'$0$', r'$+1$'])\n",
    "\n",
    "ax.legend(loc='upper left', frameon=False) ##"
   ]
  },
  {
   "cell_type": "markdown",
   "metadata": {},
   "source": [
    "Read this carefully.  \n",
    "We want to annotate the sine and cosine values at $x=\\frac{2\\pi}{3}$.\n",
    "\n",
    "So, we plot a vertical line from $(\\frac{2\\pi}{3}, \\frac{\\sqrt{3}}{2})$ to $(\\frac{2\\pi}{3}, \\frac{1}{2})$.  \n",
    "Then scatter plot both the points.  \n",
    "And finally make an arrow-pointed text annotation."
   ]
  },
  {
   "cell_type": "code",
   "execution_count": null,
   "metadata": {},
   "outputs": [],
   "source": [
    "fig = plt.figure(figsize=(8,5), dpi=80)\n",
    "ax = fig.add_subplot(111)\n",
    "\n",
    "ax.spines['right'].set_visible(False)\n",
    "ax.spines['top'].set_visible(False)\n",
    "ax.xaxis.set_ticks_position('bottom')\n",
    "ax.spines['bottom'].set_position(('data',0))\n",
    "ax.yaxis.set_ticks_position('left')\n",
    "ax.spines['left'].set_position(('data',0))\n",
    "\n",
    "ax.plot(X, C, color=\"blue\", linewidth=2.5, linestyle=\"-\", label=\"cosine\")\n",
    "ax.plot(X, S, color=\"red\", linewidth=2.5, linestyle=\"-\",  label=\"sine\")\n",
    "\n",
    "ax.set_xlim(X.min()*1.1, X.max()*1.1)\n",
    "ax.set_xticks([-np.pi, -np.pi/2, 0, np.pi/2, np.pi])\n",
    "ax.set_xticklabels([r'$-\\pi$', r'$-\\pi/2$', r'$0$', r'$+\\pi/2$', r'$+\\pi$'])\n",
    "\n",
    "ax.set_ylim(C.min()*1.1,C.max()*1.1)\n",
    "ax.set_yticks([-1, 0, +1])\n",
    "ax.set_yticklabels([r'$-1$', r'$0$', r'$+1$'])\n",
    "\n",
    "ax.legend(loc='upper left', frameon=False)\n",
    "\n",
    "t = 2*np.pi/3 ##\n",
    "ax.plot([t,t],[0,np.cos(t)], color ='blue',  linewidth=1.5, linestyle=\"--\") ##\n",
    "ax.plot([t,t],[0,np.sin(t)], color ='red',  linewidth=1.5, linestyle=\"--\") ##\n",
    "\n",
    "ax.scatter([t,],[np.cos(t),], 50, color ='blue') ##\n",
    "ax.scatter([t,],[np.sin(t),], 50, color ='red') ##\n",
    "\n",
    "ax.annotate(r'$\\cos(\\frac{2\\pi}{3})=-\\frac{1}{2}$', xy=(t, np.cos(t)), xycoords='data', ##\n",
    "             xytext=(-90, -50), textcoords='offset points', fontsize=16, ##\n",
    "             arrowprops=dict(arrowstyle=\"->\", connectionstyle=\"arc3,rad=.2\")) ##\n",
    "ax.annotate(r'$\\sin(\\frac{2\\pi}{3})=\\frac{\\sqrt{3}}{2}$', xy=(t, np.sin(t)), xycoords='data', ##\n",
    "             xytext=(+10, +30), textcoords='offset points', fontsize=16, ##\n",
    "             arrowprops=dict(arrowstyle=\"->\", connectionstyle=\"arc3,rad=.2\")) ##"
   ]
  },
  {
   "cell_type": "markdown",
   "metadata": {},
   "source": [
    "Last thing to do is make the ticks readable.  \n",
    "But if increase their size then cover the curves, so let's also make them translucent."
   ]
  },
  {
   "cell_type": "code",
   "execution_count": null,
   "metadata": {},
   "outputs": [],
   "source": [
    "fig = plt.figure(figsize=(8,5), dpi=80)\n",
    "ax = fig.add_subplot(111)\n",
    "\n",
    "ax.spines['right'].set_visible(False)\n",
    "ax.spines['top'].set_visible(False)\n",
    "ax.xaxis.set_ticks_position('bottom')\n",
    "ax.spines['bottom'].set_position(('data',0))\n",
    "ax.yaxis.set_ticks_position('left')\n",
    "ax.spines['left'].set_position(('data',0))\n",
    "\n",
    "ax.plot(X, C, color=\"blue\", linewidth=2.5, linestyle=\"-\", label=\"cosine\", zorder=-1)\n",
    "ax.plot(X, S, color=\"red\", linewidth=2.5, linestyle=\"-\",  label=\"sine\", zorder=-2)\n",
    "\n",
    "ax.set_xlim(X.min()*1.1, X.max()*1.1)\n",
    "ax.set_xticks([-np.pi, -np.pi/2, 0, np.pi/2, np.pi])\n",
    "ax.set_xticklabels([r'$-\\pi$', r'$-\\pi/2$', r'$0$', r'$+\\pi/2$', r'$+\\pi$'])\n",
    "\n",
    "ax.set_ylim(C.min()*1.1,C.max()*1.1)\n",
    "ax.set_yticks([-1, 0, +1])\n",
    "ax.set_yticklabels([r'$-1$', r'$0$', r'$+1$'])\n",
    "\n",
    "ax.legend(loc='upper left', frameon=False)\n",
    "\n",
    "t = 2*np.pi/3\n",
    "ax.plot([t,t],[0,np.cos(t)], color ='blue',  linewidth=1.5, linestyle=\"--\")\n",
    "ax.plot([t,t],[0,np.sin(t)], color ='red',  linewidth=1.5, linestyle=\"--\")\n",
    "\n",
    "ax.scatter([t,],[np.cos(t),], 50, color ='blue')\n",
    "ax.scatter([t,],[np.sin(t),], 50, color ='red')\n",
    "\n",
    "ax.annotate(r'$\\cos(\\frac{2\\pi}{3})=-\\frac{1}{2}$', xy=(t, np.cos(t)), xycoords='data',\n",
    "             xytext=(-90, -50), textcoords='offset points', fontsize=16,\n",
    "             arrowprops=dict(arrowstyle=\"->\", connectionstyle=\"arc3,rad=.2\"))\n",
    "ax.annotate(r'$\\sin(\\frac{2\\pi}{3})=\\frac{\\sqrt{3}}{2}$', xy=(t, np.sin(t)), xycoords='data',\n",
    "             xytext=(+10, +30), textcoords='offset points', fontsize=16,\n",
    "             arrowprops=dict(arrowstyle=\"->\", connectionstyle=\"arc3,rad=.2\"))\n",
    "\n",
    "for label in ax.get_xticklabels() + ax.get_yticklabels(): ##\n",
    "    label.set_fontsize(16) ##\n",
    "    label.set_bbox(dict(facecolor='white', edgecolor='None', alpha=0.65 )) ##"
   ]
  },
  {
   "cell_type": "markdown",
   "metadata": {},
   "source": [
    "Your graph is now complete. This looks much more presentable than the first one.  \n",
    "This is the power of Matplotlib, use it wisely."
   ]
  }
 ],
 "metadata": {
  "kernelspec": {
   "display_name": "Python 3",
   "language": "python",
   "name": "python3"
  },
  "language_info": {
   "codemirror_mode": {
    "name": "ipython",
    "version": 3
   },
   "file_extension": ".py",
   "mimetype": "text/x-python",
   "name": "python",
   "nbconvert_exporter": "python",
   "pygments_lexer": "ipython3",
   "version": "3.8.2"
  }
 },
 "nbformat": 4,
 "nbformat_minor": 4
}
